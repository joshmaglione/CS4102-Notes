{
 "cells": [
  {
   "cell_type": "code",
   "execution_count": 9,
   "metadata": {},
   "outputs": [],
   "source": [
    "import pandas as pd\n",
    "import numpy as np\n",
    "import matplotlib.pyplot as plt "
   ]
  },
  {
   "cell_type": "code",
   "execution_count": 10,
   "metadata": {},
   "outputs": [],
   "source": [
    "df = pd.read_csv(\"data/k-means_points.csv\")\n",
    "dat = df.to_numpy()"
   ]
  },
  {
   "cell_type": "code",
   "execution_count": 11,
   "metadata": {},
   "outputs": [],
   "source": [
    "def Voronoi(cents, data, iter=None, basic=False):\n",
    "    x_min = (data.T)[0].min() - 0.5\n",
    "    x_max = (data.T)[0].max() + 0.5\n",
    "    y_min = (data.T)[1].min() - 0.5\n",
    "    y_max = (data.T)[1].max() + 0.5\n",
    "    plt.figure(1)\n",
    "    plt.clf()\n",
    "    if not basic:\n",
    "        incr = 0.01\n",
    "        xx, yy = np.meshgrid(\n",
    "            np.arange(x_min, x_max, incr), \n",
    "            np.arange(y_min, y_max, incr)\n",
    "        )\n",
    "        Z = np.c_[xx.ravel(), yy.ravel()]\n",
    "        L = []\n",
    "        for z in Z:\n",
    "            dists = [np.linalg.norm(z - c) for c in cents]\n",
    "            L.append(dists.index(min(dists)))\n",
    "        L = np.array(L)\n",
    "        L = L.reshape(xx.shape)\n",
    "        plt.imshow(\n",
    "            L,\n",
    "            interpolation=\"nearest\",\n",
    "            extent=(xx.min(), xx.max(), yy.min(), yy.max()),\n",
    "            cmap=plt.cm.Paired,\n",
    "            aspect=\"auto\",\n",
    "            origin=\"lower\",\n",
    "        )\n",
    "        plt.tick_params(\n",
    "            left = False, \n",
    "            right = False, \n",
    "            labelleft = False, \n",
    "            labelbottom = False, \n",
    "            bottom = False\n",
    "        )\n",
    "    plt.scatter(data[:,0], data[:,1], c=\"black\")\n",
    "    if not basic:\n",
    "        cents = np.array(cents)\n",
    "        plt.scatter(cents[:,0], cents[:,1], c=\"white\", marker=\"x\", linewidths=2, s=100)\n",
    "    plt.savefig(\"imgs/k_means_iter{0}.png\".format(iter))\n",
    "\n",
    "def BasicKMeansPlots(k, data):\n",
    "    n = len(data)\n",
    "\n",
    "    # Randomly assign k data points to be centroids\n",
    "    cents = set([])\n",
    "    while len(cents) < k:\n",
    "        cents.add(tuple(data[np.random.randint(0, n)]))\n",
    "    cents = list(cents) \n",
    "    count = 0\n",
    "    \n",
    "    # Initiate labels\n",
    "    L0 = [-1]*n\n",
    "    L = [0]*n \n",
    "    \n",
    "    while L0 != L:\n",
    "        Voronoi(cents, data, iter=count)\n",
    "        L0 = L.copy() \n",
    "\n",
    "        # Update labels from centroids\n",
    "        for i in range(n):\n",
    "            dist_vec = [np.linalg.norm(data[i] - cents[j]) for j in range(k)]\n",
    "            m = min(dist_vec)\n",
    "            L[i] = dist_vec.index(m)\n",
    "\n",
    "        # Update centroids\n",
    "        for i in range(k):\n",
    "            i_lab = [data[j] for j in range(n) if L[j] == i]\n",
    "            cents[i] = sum(i_lab) / len(i_lab)\n",
    "\n",
    "        count += 1\n",
    "    return cents"
   ]
  },
  {
   "cell_type": "code",
   "execution_count": 12,
   "metadata": {},
   "outputs": [],
   "source": [
    "BasicKMeansPlots(4, dat)\n",
    "Voronoi(0, dat, iter=-1, basic=True)"
   ]
  }
 ],
 "metadata": {
  "kernelspec": {
   "display_name": "Python 3",
   "language": "python",
   "name": "python3"
  },
  "language_info": {
   "codemirror_mode": {
    "name": "ipython",
    "version": 3
   },
   "file_extension": ".py",
   "mimetype": "text/x-python",
   "name": "python",
   "nbconvert_exporter": "python",
   "pygments_lexer": "ipython3",
   "version": "3.12.0"
  }
 },
 "nbformat": 4,
 "nbformat_minor": 2
}
